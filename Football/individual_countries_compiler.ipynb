{
 "cells": [
  {
   "cell_type": "code",
   "execution_count": 1,
   "metadata": {},
   "outputs": [],
   "source": [
    "from pandas import read_csv"
   ]
  },
  {
   "cell_type": "code",
   "execution_count": 2,
   "metadata": {},
   "outputs": [],
   "source": [
    "folder_name = \"Europe Data\"\n",
    "not_needed_cols = ['full_time', 'competition', 'home_ident', 'away_ident', 'home_country', 'away_country', 'home_code', 'away_code', 'home_continent', 'away_continent', 'continent', 'level']\n",
    "\n",
    "countries = [\"england\",\"spain\",\"france\",\"germany\",\"italy\",\"netherlands\",\"portugal\"]\n",
    "\n",
    "for c in countries:\n",
    "    df = read_csv(folder_name+\"/\"+c+\".csv\")\n",
    "    for col in not_needed_cols:\n",
    "        df.drop(col,axis=1,inplace=True)\n",
    "    df.sort_values(\"date\",inplace=True)\n",
    "    df.to_csv(\"Individual Countries/\"+c+\".csv\",index=False,header=False)"
   ]
  }
 ],
 "metadata": {
  "kernelspec": {
   "display_name": "Python 3",
   "language": "python",
   "name": "python3"
  },
  "language_info": {
   "codemirror_mode": {
    "name": "ipython",
    "version": 3
   },
   "file_extension": ".py",
   "mimetype": "text/x-python",
   "name": "python",
   "nbconvert_exporter": "python",
   "pygments_lexer": "ipython3",
   "version": "3.12.4"
  }
 },
 "nbformat": 4,
 "nbformat_minor": 2
}
